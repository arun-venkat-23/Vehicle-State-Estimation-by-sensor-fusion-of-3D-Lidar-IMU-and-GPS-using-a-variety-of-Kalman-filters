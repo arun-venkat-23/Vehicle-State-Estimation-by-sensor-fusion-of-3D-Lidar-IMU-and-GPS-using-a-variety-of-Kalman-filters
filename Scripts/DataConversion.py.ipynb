{
 "cells": [
  {
   "cell_type": "code",
   "execution_count": null,
   "id": "d9f8491f",
   "metadata": {},
   "outputs": [],
   "source": [
    "import pandas as pd\n",
    "a = gnss.data\n",
    "df = pd.DataFrame(a, columns = ['X','Y','Z'])\n",
    "datatoexcel = pd.ExcelWriter(\"GPS.xlsx\",engine = 'xlsxwriter')\n",
    "df.to_excel(datatoexcel, sheet_name='Sheet1')\n",
    "datatoexcel.save()"
   ]
  },
  {
   "cell_type": "code",
   "execution_count": null,
   "id": "6e0f2267",
   "metadata": {},
   "outputs": [],
   "source": [
    "gt.p\n",
    "import pandas as pd\n",
    "a = gt.p\n",
    "df = pd.DataFrame(a, columns = ['X','Y','Z'])\n",
    "datatoexcel = pd.ExcelWriter(\"GroundTruth.xlsx\",engine = 'xlsxwriter')\n",
    "df.to_excel(datatoexcel, sheet_name='Sheet1')\n",
    "datatoexcel.save()"
   ]
  },
  {
   "cell_type": "code",
   "execution_count": null,
   "id": "11084bae",
   "metadata": {},
   "outputs": [],
   "source": [
    "lidar.data\n",
    "import pandas as pd\n",
    "a = lidar.data\n",
    "df = pd.DataFrame(a, columns = ['X','Y','Z'])\n",
    "datatoexcel = pd.ExcelWriter(\"Lidar.xlsx\",engine = 'xlsxwriter')\n",
    "df.to_excel(datatoexcel, sheet_name='Sheet1')\n",
    "datatoexcel.save()"
   ]
  },
  {
   "cell_type": "code",
   "execution_count": null,
   "id": "8b4b2f0f",
   "metadata": {},
   "outputs": [],
   "source": [
    "imu_f.data\n",
    "import pandas as pd\n",
    "a = imu_f.data\n",
    "df = pd.DataFrame(a, columns = ['X','Y','Z'])\n",
    "datatoexcel = pd.ExcelWriter(\"IMU_F.xlsx\",engine = 'xlsxwriter')\n",
    "df.to_excel(datatoexcel, sheet_name='Sheet1')\n",
    "datatoexcel.save()"
   ]
  },
  {
   "cell_type": "code",
   "execution_count": null,
   "id": "a60c8fde",
   "metadata": {},
   "outputs": [],
   "source": [
    "imu_w.data\n",
    "import pandas as pd\n",
    "a = imu_w.data\n",
    "df = pd.DataFrame(a, columns = ['X','Y','Z'])\n",
    "datatoexcel = pd.ExcelWriter(\"IMU_W.xlsx\",engine = 'xlsxwriter')\n",
    "df.to_excel(datatoexcel, sheet_name='Sheet1')\n",
    "datatoexcel.save()"
   ]
  },
  {
   "cell_type": "code",
   "execution_count": null,
   "id": "5d4bcf52",
   "metadata": {},
   "outputs": [],
   "source": [
    "imu_f.t\n",
    "import pandas as pd\n",
    "a = imu_f.t\n",
    "df = pd.DataFrame(a, columns = ['Time'])\n",
    "datatoexcel = pd.ExcelWriter(\"IMU_F-Time.xlsx\",engine = 'xlsxwriter')\n",
    "df.to_excel(datatoexcel, sheet_name='Sheet1')\n",
    "datatoexcel.save()"
   ]
  },
  {
   "cell_type": "code",
   "execution_count": null,
   "id": "407e2456",
   "metadata": {},
   "outputs": [],
   "source": [
    "gt.v\n",
    "import pandas as pd\n",
    "a = gt.v\n",
    "df = pd.DataFrame(a, columns = ['Vx','Vy','Vz'])\n",
    "datatoexcel = pd.ExcelWriter(\"gt.v.xlsx\",engine = 'xlsxwriter')\n",
    "df.to_excel(datatoexcel, sheet_name='Sheet1')\n",
    "datatoexcel.save()"
   ]
  },
  {
   "cell_type": "code",
   "execution_count": null,
   "id": "bbddb930",
   "metadata": {},
   "outputs": [],
   "source": [
    "gt.r\n",
    "import pandas as pd\n",
    "a = gt.r\n",
    "df = pd.DataFrame(a, columns = ['X','Y','Z'])\n",
    "datatoexcel = pd.ExcelWriter(\"gt.r.xlsx\",engine = 'xlsxwriter')\n",
    "df.to_excel(datatoexcel, sheet_name='Sheet1')\n",
    "datatoexcel.save()"
   ]
  },
  {
   "cell_type": "code",
   "execution_count": null,
   "id": "413f3632",
   "metadata": {
    "scrolled": true
   },
   "outputs": [],
   "source": [
    "gt.r"
   ]
  },
  {
   "cell_type": "code",
   "execution_count": null,
   "id": "3f9506df",
   "metadata": {},
   "outputs": [],
   "source": [
    "gnss.t\n",
    "import pandas as pd\n",
    "a = gnss.t\n",
    "df = pd.DataFrame(a, columns = ['Time'])\n",
    "datatoexcel = pd.ExcelWriter(\"gnss.t.xlsx\",engine = 'xlsxwriter')\n",
    "df.to_excel(datatoexcel, sheet_name='Sheet1')\n",
    "datatoexcel.save()"
   ]
  },
  {
   "cell_type": "code",
   "execution_count": null,
   "id": "64b07a43",
   "metadata": {},
   "outputs": [],
   "source": [
    "lidar.t\n",
    "import pandas as pd\n",
    "a = lidar.t\n",
    "df = pd.DataFrame(a, columns = ['Time'])\n",
    "datatoexcel = pd.ExcelWriter(\"lidar.t.xlsx\",engine = 'xlsxwriter')\n",
    "df.to_excel(datatoexcel, sheet_name='Sheet1')\n",
    "datatoexcel.save()"
   ]
  },
  {
   "cell_type": "code",
   "execution_count": null,
   "id": "f619eae6",
   "metadata": {},
   "outputs": [],
   "source": [
    "gt.a\n",
    "import pandas as pd\n",
    "a = gt.a\n",
    "df = pd.DataFrame(a, columns = ['X','Y','Z'])\n",
    "datatoexcel = pd.ExcelWriter(\"gt.a.xlsx\",engine = 'xlsxwriter')\n",
    "df.to_excel(datatoexcel, sheet_name='Sheet1')\n",
    "datatoexcel.save()"
   ]
  },
  {
   "cell_type": "code",
   "execution_count": null,
   "id": "8ba27fa1",
   "metadata": {},
   "outputs": [],
   "source": [
    "gt._t\n",
    "import pandas as pd\n",
    "a = gt._t\n",
    "df = pd.DataFrame(a, columns = ['Time'])\n",
    "datatoexcel = pd.ExcelWriter(\"gt._t.xlsx\",engine = 'xlsxwriter')\n",
    "df.to_excel(datatoexcel, sheet_name='Sheet1')\n",
    "datatoexcel.save()"
   ]
  },
  {
   "cell_type": "code",
   "execution_count": null,
   "id": "81f98f9f",
   "metadata": {},
   "outputs": [],
   "source": [
    "gt.w\n",
    "import pandas as pd\n",
    "a = gt.w\n",
    "df = pd.DataFrame(a, columns = ['X','Y','Z'])\n",
    "datatoexcel = pd.ExcelWriter(\"gt.W.xlsx\",engine = 'xlsxwriter')\n",
    "df.to_excel(datatoexcel, sheet_name='Sheet1')\n",
    "datatoexcel.save()"
   ]
  },
  {
   "cell_type": "code",
   "execution_count": null,
   "id": "d025e12b",
   "metadata": {},
   "outputs": [],
   "source": [
    "gt.alpha\n",
    "import pandas as pd\n",
    "a = gt.alpha\n",
    "df = pd.DataFrame(a, columns = ['X','Y','Z'])\n",
    "datatoexcel = pd.ExcelWriter(\"gt.alpha.xlsx\",engine = 'xlsxwriter')\n",
    "df.to_excel(datatoexcel, sheet_name='Sheet1')\n",
    "datatoexcel.save()"
   ]
  }
 ],
 "metadata": {
  "kernelspec": {
   "display_name": "Python 3 (ipykernel)",
   "language": "python",
   "name": "python3"
  },
  "language_info": {
   "codemirror_mode": {
    "name": "ipython",
    "version": 3
   },
   "file_extension": ".py",
   "mimetype": "text/x-python",
   "name": "python",
   "nbconvert_exporter": "python",
   "pygments_lexer": "ipython3",
   "version": "3.9.13"
  }
 },
 "nbformat": 4,
 "nbformat_minor": 5
}
